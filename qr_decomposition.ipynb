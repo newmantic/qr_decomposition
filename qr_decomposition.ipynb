{
  "nbformat": 4,
  "nbformat_minor": 0,
  "metadata": {
    "colab": {
      "provenance": [],
      "authorship_tag": "ABX9TyPMHa69+OGwVQN/Ywl990/4",
      "include_colab_link": true
    },
    "kernelspec": {
      "name": "python3",
      "display_name": "Python 3"
    },
    "language_info": {
      "name": "python"
    }
  },
  "cells": [
    {
      "cell_type": "markdown",
      "metadata": {
        "id": "view-in-github",
        "colab_type": "text"
      },
      "source": [
        "<a href=\"https://colab.research.google.com/github/newmantic/qr_decomposition/blob/main/qr_decomposition.ipynb\" target=\"_parent\"><img src=\"https://colab.research.google.com/assets/colab-badge.svg\" alt=\"Open In Colab\"/></a>"
      ]
    },
    {
      "cell_type": "code",
      "execution_count": 1,
      "metadata": {
        "colab": {
          "base_uri": "https://localhost:8080/"
        },
        "id": "-VYPL_wbpqLD",
        "outputId": "fbe36cf4-de86-45b2-f89c-7828ea1c23d4"
      },
      "outputs": [
        {
          "output_type": "stream",
          "name": "stdout",
          "text": [
            "Matrix Q:\n",
            "[[ 0.70710678  0.40824829 -0.57735027]\n",
            " [ 0.70710678 -0.40824829  0.57735027]\n",
            " [ 0.          0.81649658  0.57735027]]\n",
            "Matrix R:\n",
            "[[1.41421356 0.70710678 0.70710678]\n",
            " [0.         1.22474487 0.40824829]\n",
            " [0.         0.         1.15470054]]\n",
            "Reconstructed Matrix A:\n",
            "[[1.00000000e+00 1.00000000e+00 4.02426802e-17]\n",
            " [1.00000000e+00 1.73428748e-19 1.00000000e+00]\n",
            " [0.00000000e+00 1.00000000e+00 1.00000000e+00]]\n"
          ]
        }
      ],
      "source": [
        "import numpy as np\n",
        "\n",
        "def qr_decomposition(A):\n",
        "    \"\"\"\n",
        "    Perform QR decomposition of a matrix A using the Gram-Schmidt process.\n",
        "\n",
        "    Parameters:\n",
        "    A (np.ndarray): The input matrix of shape (m, n).\n",
        "\n",
        "    Returns:\n",
        "    tuple: Q (np.ndarray), R (np.ndarray) where A = Q * R.\n",
        "    \"\"\"\n",
        "    m, n = A.shape\n",
        "    Q = np.zeros((m, n))\n",
        "    R = np.zeros((n, n))\n",
        "\n",
        "    for j in range(n):\n",
        "        v = A[:, j]\n",
        "\n",
        "        # Compute the orthogonalized vector\n",
        "        for i in range(j):\n",
        "            R[i, j] = np.dot(Q[:, i], A[:, j])\n",
        "            v = v - R[i, j] * Q[:, i]\n",
        "\n",
        "        R[j, j] = np.linalg.norm(v)\n",
        "        Q[:, j] = v / R[j, j]\n",
        "\n",
        "    return Q, R\n",
        "\n",
        "# Testable example:\n",
        "A = np.array([[1, 1, 0],\n",
        "              [1, 0, 1],\n",
        "              [0, 1, 1]])\n",
        "\n",
        "Q, R = qr_decomposition(A)\n",
        "print(\"Matrix Q:\")\n",
        "print(Q)\n",
        "print(\"Matrix R:\")\n",
        "print(R)\n",
        "\n",
        "# Verify that A = Q * R\n",
        "A_reconstructed = np.dot(Q, R)\n",
        "print(\"Reconstructed Matrix A:\")\n",
        "print(A_reconstructed)"
      ]
    },
    {
      "cell_type": "code",
      "source": [
        "# example:\n",
        "A_advanced = np.array([[12, -51, 4],\n",
        "                       [6, 167, -68],\n",
        "                       [-4, 24, -41]])\n",
        "\n",
        "Q_advanced, R_advanced = qr_decomposition(A_advanced)\n",
        "print(\"Advanced Matrix Q:\")\n",
        "print(Q_advanced)\n",
        "print(\"Advanced Matrix R:\")\n",
        "print(R_advanced)\n",
        "\n",
        "# Verify that A_advanced = Q_advanced * R_advanced\n",
        "A_advanced_reconstructed = np.dot(Q_advanced, R_advanced)\n",
        "print(\"Reconstructed Advanced Matrix A:\")\n",
        "print(A_advanced_reconstructed)"
      ],
      "metadata": {
        "colab": {
          "base_uri": "https://localhost:8080/"
        },
        "id": "JBfXD4RsqLTV",
        "outputId": "e91714a6-b72c-46de-94b9-f03d11213b83"
      },
      "execution_count": 2,
      "outputs": [
        {
          "output_type": "stream",
          "name": "stdout",
          "text": [
            "Advanced Matrix Q:\n",
            "[[ 0.85714286 -0.39428571 -0.33142857]\n",
            " [ 0.42857143  0.90285714  0.03428571]\n",
            " [-0.28571429  0.17142857 -0.94285714]]\n",
            "Advanced Matrix R:\n",
            "[[ 14.  21. -14.]\n",
            " [  0. 175. -70.]\n",
            " [  0.   0.  35.]]\n",
            "Reconstructed Advanced Matrix A:\n",
            "[[ 12. -51.   4.]\n",
            " [  6. 167. -68.]\n",
            " [ -4.  24. -41.]]\n"
          ]
        }
      ]
    }
  ]
}